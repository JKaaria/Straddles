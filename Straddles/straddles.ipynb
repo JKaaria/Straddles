{
 "cells": [
  {
   "attachments": {},
   "cell_type": "markdown",
   "metadata": {},
   "source": [
    "# Theoretical Straddle Price Over Time (Simulated)"
   ]
  },
  {
   "cell_type": "code",
   "execution_count": 1,
   "metadata": {},
   "outputs": [
    {
     "name": "stderr",
     "output_type": "stream",
     "text": [
      "<frozen importlib._bootstrap>:228: RuntimeWarning: scipy._lib.messagestream.MessageStream size changed, may indicate binary incompatibility. Expected 56 from C header, got 64 from PyObject\n"
     ]
    },
    {
     "name": "stdout",
     "output_type": "stream",
     "text": [
      "[*********************100%***********************]  1 of 1 completed\n",
      "[*********************100%***********************]  1 of 1 completed\n",
      "                  AAPL  Theoretical Straddle Price\n",
      "Date                                              \n",
      "2023-05-08  173.260345                   33.214799\n",
      "2023-05-09  171.532745                   32.891410\n",
      "2023-05-10  173.320267                   33.147029\n",
      "2023-05-11  173.510010                   33.163682\n",
      "2023-05-12  172.570007                   32.757872\n"
     ]
    },
    {
     "name": "stderr",
     "output_type": "stream",
     "text": [
      "/var/folders/c_/3w7lwv357ml_pj14pggblv280000gn/T/ipykernel_9460/1304982957.py:30: DeprecationWarning: The default dtype for empty Series will be 'object' instead of 'float64' in a future version. Specify a dtype explicitly to silence this warning.\n",
      "  call_prices = pd.Series(index=stock_prices.index)\n",
      "/var/folders/c_/3w7lwv357ml_pj14pggblv280000gn/T/ipykernel_9460/1304982957.py:31: DeprecationWarning: The default dtype for empty Series will be 'object' instead of 'float64' in a future version. Specify a dtype explicitly to silence this warning.\n",
      "  put_prices = pd.Series(index=stock_prices.index)\n"
     ]
    }
   ],
   "source": [
    "import yfinance as yf\n",
    "from scipy.stats import norm\n",
    "import pandas as pd\n",
    "import numpy as np\n",
    "from datetime import date\n",
    "\n",
    "# Define the tickers for the stock and the risk-free rate proxy\n",
    "stock_ticker = \"AAPL\"\n",
    "rf_ticker = \"^TNX\"\n",
    "\n",
    "# Set the start and end dates for the historical data\n",
    "start_date = \"2020-01-01\"\n",
    "end_date = date.today().strftime('%Y-%m-%d')\n",
    "\n",
    "# Download historical prices for the stock and the risk-free rate\n",
    "stock_prices = yf.download(stock_ticker, start=start_date, end=end_date)[\"Adj Close\"]\n",
    "rf_prices = yf.download(rf_ticker, start=start_date, end=end_date)[\"Adj Close\"]\n",
    "\n",
    "# Calculate the daily returns for the stock and the risk-free rate\n",
    "stock_returns = stock_prices.pct_change()\n",
    "rf_returns = rf_prices.pct_change()\n",
    "\n",
    "# Define the Black-Scholes inputs\n",
    "K = stock_prices.values  # strike price (at-the-money options)\n",
    "r = rf_returns.mean() * 252  # annualized risk-free rate\n",
    "t = 90 / 252  # time to maturity (in years)\n",
    "sigma = stock_returns.rolling(window=252).std() * np.sqrt(252)  # annualized volatility\n",
    "\n",
    "# Calculate the Black-Scholes call and put prices for each day\n",
    "call_prices = pd.Series(index=stock_prices.index)\n",
    "put_prices = pd.Series(index=stock_prices.index)\n",
    "\n",
    "for i in range(len(stock_prices)):\n",
    "    S = stock_prices.iloc[i]  # current stock price\n",
    "    sigma_i = sigma.iloc[i]\n",
    "    \n",
    "    d1 = (np.log(S/K[i]) + (r + sigma_i**2/2) * t) / (sigma_i * np.sqrt(t))\n",
    "    d2 = d1 - sigma_i * np.sqrt(t)\n",
    "    call_price = S * norm.cdf(d1) - K[i] * np.exp(-r * t) * norm.cdf(d2)\n",
    "    put_price = K[i] * np.exp(-r * t) * norm.cdf(-d2) - S * norm.cdf(-d1)\n",
    "    \n",
    "    call_prices.iloc[i] = call_price\n",
    "    put_prices.iloc[i] = put_price\n",
    "\n",
    "# Calculate the Black-Scholes straddle prices for each day\n",
    "straddle_prices = call_prices + put_prices\n",
    "\n",
    "# Create a DataFrame to store the stock prices and the theoretical straddle price\n",
    "data = pd.concat([stock_prices, straddle_prices], axis=1)\n",
    "data.columns = [stock_ticker, \"Theoretical Straddle Price\"]\n",
    "\n",
    "# Print the last 5 rows of the data\n",
    "print(data.tail())\n"
   ]
  }
 ],
 "metadata": {
  "kernelspec": {
   "display_name": "base",
   "language": "python",
   "name": "python3"
  },
  "language_info": {
   "codemirror_mode": {
    "name": "ipython",
    "version": 3
   },
   "file_extension": ".py",
   "mimetype": "text/x-python",
   "name": "python",
   "nbconvert_exporter": "python",
   "pygments_lexer": "ipython3",
   "version": "3.9.15"
  },
  "orig_nbformat": 4
 },
 "nbformat": 4,
 "nbformat_minor": 2
}
